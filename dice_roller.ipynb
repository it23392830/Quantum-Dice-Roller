{
  "metadata": {
    "kernelspec": {
      "name": "xpython",
      "display_name": "Python 3.13 (XPython)",
      "language": "python"
    },
    "language_info": {
      "name": ""
    }
  },
  "nbformat_minor": 5,
  "nbformat": 4,
  "cells": [
    {
      "id": "d512e294-979f-40d6-9e9a-c21414ed5fe4",
      "cell_type": "markdown",
      "source": "# Quantum Dice Roller 🎲\n\nThis project demonstrates **true quantum randomness** using Qiskit.  \nWe simulate a dice roll (1–6) using **3 qubits** in superposition and the **Aer simulator**.\n\nQuantum principles used:\n- **Superposition:** Each qubit can be |0⟩ or |1⟩ at the same time.\n- **Quantum Measurement:** Collapses the qubits to a random classical value.\n- **Entanglement (optional extension):** Can be used for correlated qubits.\n\nEnjoy rolling your **quantum dice**!\n",
      "metadata": {}
    },
    {
      "id": "5c91f457-22e5-424a-aea6-ea411f7ddfe2",
      "cell_type": "code",
      "source": "# Install Qiskit packages if needed (uncomment if not installed)\n# !pip install qiskit qiskit-aer\n\nfrom qiskit import QuantumCircuit\nfrom qiskit_aer import AerSimulator",
      "metadata": {
        "trusted": true
      },
      "outputs": [],
      "execution_count": null
    },
    {
      "id": "be82a618-7a5b-4b72-b9d0-a071eadb11c9",
      "cell_type": "markdown",
      "source": "We use:\n- `QuantumCircuit` to build our quantum circuit.\n- `AerSimulator` to simulate a quantum computer on our machine.",
      "metadata": {}
    },
    {
      "id": "f672dc45-bd58-4d3c-aedc-0bf930d11612",
      "cell_type": "code",
      "source": "def quantum_random_number():\n    # 3 qubits to cover 0-7\n    qc = QuantumCircuit(3, 3)\n    qc.h([0, 1, 2])          # Put qubits in superposition\n    qc.measure([0, 1, 2], [0, 1, 2])\n\n    # Use AerSimulator\n    simulator = AerSimulator()\n    job = simulator.run(qc, shots=1)\n    result = job.result()\n    counts = result.get_counts(qc)\n    \n    random_bin = list(counts.keys())[0]\n    random_num = int(random_bin, 2)\n    return random_num\n\ndef quantum_dice_roll():\n    while True:\n        num = quantum_random_number()\n        if num < 6:  # Only 0-5\n            return num + 1\n\nif __name__ == \"__main__\":\n    for i in range(5):\n        print(\"Quantum dice roll:\", quantum_dice_roll())\n",
      "metadata": {
        "trusted": true
      },
      "outputs": [],
      "execution_count": null
    },
    {
      "id": "e5983cef-4327-48f5-9932-a820ae11e7a8",
      "cell_type": "markdown",
      "source": "- `quantum_random_number()` generates a random integer from 0-7 using 3 qubits.\n- `quantum_dice_roll()` ensures we only get dice numbers 1–6.\n- Each roll is **truly random** due to quantum superposition.",
      "metadata": {}
    },
    {
      "id": "5b4d72d2-0b86-4c7d-b735-e3a9700d0e45",
      "cell_type": "code",
      "source": "# Roll the dice 5 times\nfor i in range(5):\n    print(f\"Quantum dice roll {i+1}: {quantum_dice_roll()}\")\n",
      "metadata": {
        "trusted": true
      },
      "outputs": [],
      "execution_count": null
    },
    {
      "id": "02d67d4f-dbad-4fa1-a848-73f2c0fd8c66",
      "cell_type": "code",
      "source": "Run this cell multiple times to see different outcomes — each roll is **truly random**.",
      "metadata": {
        "trusted": true
      },
      "outputs": [],
      "execution_count": null
    },
    {
      "id": "bceb4e68-7614-4ba8-abec-2ec6e4979fc8",
      "cell_type": "code",
      "source": "# Build a sample circuit and draw it\nqc = QuantumCircuit(3, 3)\nqc.h([0, 1, 2])\nqc.measure([0, 1, 2], [0, 1, 2])\nqc.draw(output='mpl')  # 'mpl' will render a nice plot\n",
      "metadata": {
        "trusted": true
      },
      "outputs": [],
      "execution_count": null
    },
    {
      "id": "d585a57c-4cab-487d-a9f1-781b946f0873",
      "cell_type": "markdown",
      "source": "This diagram shows the **quantum circuit**:\n- `H` gates put qubits into superposition\n- Measurement collapses the state to a classical value",
      "metadata": {}
    },
    {
      "id": "8337ef4f-d7eb-4a3a-ac88-5c94b8e481dc",
      "cell_type": "markdown",
      "source": "### Quantum Dice Roller 🎲\n\nEver wondered how **quantum randomness** works?  \nThis project uses **3 qubits in superposition** to generate truly random dice rolls (1–6) using **Qiskit and AerSimulator**.\n\nTry it yourself using the Jupyter Notebook or Python script!\n\nCheck it out on GitHub: https://github.com/it23392830/Quantum-Dice-Roller.git\n",
      "metadata": {}
    }
  ]
}